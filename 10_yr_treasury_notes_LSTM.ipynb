{
  "nbformat": 4,
  "nbformat_minor": 0,
  "metadata": {
    "colab": {
      "name": "10 yr treasury notes LSTM.ipynb",
      "provenance": [],
      "collapsed_sections": [],
      "toc_visible": true
    },
    "kernelspec": {
      "name": "python3",
      "display_name": "Python 3"
    }
  },
  "cells": [
    {
      "cell_type": "code",
      "metadata": {
        "id": "ftL3WnrBwm8w",
        "colab_type": "code",
        "outputId": "2cea07d5-6660-469b-d856-1711121c79b8",
        "colab": {
          "base_uri": "https://localhost:8080/",
          "height": 80
        }
      },
      "source": [
        "#pandas is imported to read the csv file and perform preprocessing on the dataset.\n",
        "import pandas\n",
        "#matlpotlib is used to visualize the plot\n",
        "import matplotlib.pyplot as plt\n",
        "#MinMaxScalar is used to normalize the value before training\n",
        "from sklearn.preprocessing import MinMaxScaler\n",
        "#numoy is used to deal with the data after train and split as data will be in form of aray for training and testing.\n",
        "import numpy as np\n",
        "#keras has 2 models one is functional and another is sequential\n",
        "from keras.models import Sequential\n",
        "#Dense layer is the output layer\n",
        "from keras.layers import Dense\n",
        "#LSTM is Long Term Short Term Memory\n",
        "from keras.layers import LSTM\n",
        "#library used to calculate the mean square error. For classification accuracy is calculated and for regression mean square error is calculated\n",
        "import math\n",
        "from sklearn.metrics import mean_squared_error\n",
        "#data is read using pandas and output is a dataframe"
      ],
      "execution_count": 1,
      "outputs": [
        {
          "output_type": "stream",
          "text": [
            "Using TensorFlow backend.\n"
          ],
          "name": "stderr"
        },
        {
          "output_type": "display_data",
          "data": {
            "text/html": [
              "<p style=\"color: red;\">\n",
              "The default version of TensorFlow in Colab will switch to TensorFlow 2.x on the 27th of March, 2020.<br>\n",
              "We recommend you <a href=\"https://www.tensorflow.org/guide/migrate\" target=\"_blank\">upgrade</a> now\n",
              "or ensure your notebook will continue to use TensorFlow 1.x via the <code>%tensorflow_version 1.x</code> magic:\n",
              "<a href=\"https://colab.research.google.com/notebooks/tensorflow_version.ipynb\" target=\"_blank\">more info</a>.</p>\n"
            ],
            "text/plain": [
              "<IPython.core.display.HTML object>"
            ]
          },
          "metadata": {
            "tags": []
          }
        }
      ]
    },
    {
      "cell_type": "code",
      "metadata": {
        "id": "9prVWO22x2hv",
        "colab_type": "code",
        "colab": {}
      },
      "source": [
        "\n",
        "import pandas_datareader as web\n",
        "import numpy as np\n",
        "import pandas as pd\n",
        "import matplotlib.pyplot as plt\n",
        "plt.style.use(\"fivethirtyeight\")"
      ],
      "execution_count": 0,
      "outputs": []
    },
    {
      "cell_type": "code",
      "metadata": {
        "id": "WJrNiHvi2lD9",
        "colab_type": "code",
        "outputId": "9e41e52c-e164-4f5f-df04-6dc15f047ec6",
        "colab": {
          "base_uri": "https://localhost:8080/",
          "height": 450
        }
      },
      "source": [
        "# get stock data\n",
        "df = web.DataReader(\"^TNX\", data_source=\"yahoo\", start=\"1979-01-01\", end=\"2020-03-23\")\n",
        "\n",
        "#show the data\n",
        "df\n"
      ],
      "execution_count": 3,
      "outputs": [
        {
          "output_type": "execute_result",
          "data": {
            "text/html": [
              "<div>\n",
              "<style scoped>\n",
              "    .dataframe tbody tr th:only-of-type {\n",
              "        vertical-align: middle;\n",
              "    }\n",
              "\n",
              "    .dataframe tbody tr th {\n",
              "        vertical-align: top;\n",
              "    }\n",
              "\n",
              "    .dataframe thead th {\n",
              "        text-align: right;\n",
              "    }\n",
              "</style>\n",
              "<table border=\"1\" class=\"dataframe\">\n",
              "  <thead>\n",
              "    <tr style=\"text-align: right;\">\n",
              "      <th></th>\n",
              "      <th>High</th>\n",
              "      <th>Low</th>\n",
              "      <th>Open</th>\n",
              "      <th>Close</th>\n",
              "      <th>Volume</th>\n",
              "      <th>Adj Close</th>\n",
              "    </tr>\n",
              "    <tr>\n",
              "      <th>Date</th>\n",
              "      <th></th>\n",
              "      <th></th>\n",
              "      <th></th>\n",
              "      <th></th>\n",
              "      <th></th>\n",
              "      <th></th>\n",
              "    </tr>\n",
              "  </thead>\n",
              "  <tbody>\n",
              "    <tr>\n",
              "      <th>1979-01-02</th>\n",
              "      <td>9.180</td>\n",
              "      <td>9.180</td>\n",
              "      <td>9.180</td>\n",
              "      <td>9.180</td>\n",
              "      <td>0.0</td>\n",
              "      <td>9.180</td>\n",
              "    </tr>\n",
              "    <tr>\n",
              "      <th>1979-01-03</th>\n",
              "      <td>9.160</td>\n",
              "      <td>9.160</td>\n",
              "      <td>9.160</td>\n",
              "      <td>9.160</td>\n",
              "      <td>0.0</td>\n",
              "      <td>9.160</td>\n",
              "    </tr>\n",
              "    <tr>\n",
              "      <th>1979-01-04</th>\n",
              "      <td>9.110</td>\n",
              "      <td>9.110</td>\n",
              "      <td>9.110</td>\n",
              "      <td>9.110</td>\n",
              "      <td>0.0</td>\n",
              "      <td>9.110</td>\n",
              "    </tr>\n",
              "    <tr>\n",
              "      <th>1979-01-05</th>\n",
              "      <td>9.100</td>\n",
              "      <td>9.100</td>\n",
              "      <td>9.100</td>\n",
              "      <td>9.100</td>\n",
              "      <td>0.0</td>\n",
              "      <td>9.100</td>\n",
              "    </tr>\n",
              "    <tr>\n",
              "      <th>1979-01-08</th>\n",
              "      <td>9.140</td>\n",
              "      <td>9.140</td>\n",
              "      <td>9.140</td>\n",
              "      <td>9.140</td>\n",
              "      <td>0.0</td>\n",
              "      <td>9.140</td>\n",
              "    </tr>\n",
              "    <tr>\n",
              "      <th>...</th>\n",
              "      <td>...</td>\n",
              "      <td>...</td>\n",
              "      <td>...</td>\n",
              "      <td>...</td>\n",
              "      <td>...</td>\n",
              "      <td>...</td>\n",
              "    </tr>\n",
              "    <tr>\n",
              "      <th>2020-03-17</th>\n",
              "      <td>0.997</td>\n",
              "      <td>0.743</td>\n",
              "      <td>0.794</td>\n",
              "      <td>0.997</td>\n",
              "      <td>0.0</td>\n",
              "      <td>0.997</td>\n",
              "    </tr>\n",
              "    <tr>\n",
              "      <th>2020-03-18</th>\n",
              "      <td>1.266</td>\n",
              "      <td>0.999</td>\n",
              "      <td>1.082</td>\n",
              "      <td>1.266</td>\n",
              "      <td>0.0</td>\n",
              "      <td>1.266</td>\n",
              "    </tr>\n",
              "    <tr>\n",
              "      <th>2020-03-19</th>\n",
              "      <td>1.225</td>\n",
              "      <td>1.007</td>\n",
              "      <td>1.137</td>\n",
              "      <td>1.119</td>\n",
              "      <td>0.0</td>\n",
              "      <td>1.119</td>\n",
              "    </tr>\n",
              "    <tr>\n",
              "      <th>2020-03-20</th>\n",
              "      <td>1.031</td>\n",
              "      <td>0.916</td>\n",
              "      <td>1.016</td>\n",
              "      <td>0.938</td>\n",
              "      <td>0.0</td>\n",
              "      <td>0.938</td>\n",
              "    </tr>\n",
              "    <tr>\n",
              "      <th>2020-03-23</th>\n",
              "      <td>0.879</td>\n",
              "      <td>0.715</td>\n",
              "      <td>0.715</td>\n",
              "      <td>0.764</td>\n",
              "      <td>0.0</td>\n",
              "      <td>0.764</td>\n",
              "    </tr>\n",
              "  </tbody>\n",
              "</table>\n",
              "<p>10297 rows × 6 columns</p>\n",
              "</div>"
            ],
            "text/plain": [
              "             High    Low   Open  Close  Volume  Adj Close\n",
              "Date                                                     \n",
              "1979-01-02  9.180  9.180  9.180  9.180     0.0      9.180\n",
              "1979-01-03  9.160  9.160  9.160  9.160     0.0      9.160\n",
              "1979-01-04  9.110  9.110  9.110  9.110     0.0      9.110\n",
              "1979-01-05  9.100  9.100  9.100  9.100     0.0      9.100\n",
              "1979-01-08  9.140  9.140  9.140  9.140     0.0      9.140\n",
              "...           ...    ...    ...    ...     ...        ...\n",
              "2020-03-17  0.997  0.743  0.794  0.997     0.0      0.997\n",
              "2020-03-18  1.266  0.999  1.082  1.266     0.0      1.266\n",
              "2020-03-19  1.225  1.007  1.137  1.119     0.0      1.119\n",
              "2020-03-20  1.031  0.916  1.016  0.938     0.0      0.938\n",
              "2020-03-23  0.879  0.715  0.715  0.764     0.0      0.764\n",
              "\n",
              "[10297 rows x 6 columns]"
            ]
          },
          "metadata": {
            "tags": []
          },
          "execution_count": 3
        }
      ]
    },
    {
      "cell_type": "code",
      "metadata": {
        "id": "x6izMkNL27S0",
        "colab_type": "code",
        "outputId": "16e19d55-8c23-46f1-a6d5-c9720f533e7e",
        "colab": {
          "base_uri": "https://localhost:8080/",
          "height": 34
        }
      },
      "source": [
        "#Get the number of rows and columns in the data set\n",
        "df.shape"
      ],
      "execution_count": 4,
      "outputs": [
        {
          "output_type": "execute_result",
          "data": {
            "text/plain": [
              "(10297, 6)"
            ]
          },
          "metadata": {
            "tags": []
          },
          "execution_count": 4
        }
      ]
    },
    {
      "cell_type": "code",
      "metadata": {
        "id": "CVlySUGt3Mwr",
        "colab_type": "code",
        "outputId": "244e32ae-8681-42f3-d6cb-7bfdb02b7027",
        "colab": {
          "base_uri": "https://localhost:8080/",
          "height": 676
        }
      },
      "source": [
        "#Visualize the closing price history\n",
        "plt.figure(figsize=(16,8))\n",
        "plt.title('S&P 500 Close Price History Jan,1979 - March,2020')\n",
        "plt.plot(df['Close'])\n",
        "plt.xlabel('Date', fontsize=14)\n",
        "plt.ylabel('Close Price USD ($)', fontsize=14)\n",
        "plt.show()"
      ],
      "execution_count": 5,
      "outputs": [
        {
          "output_type": "stream",
          "text": [
            "/usr/local/lib/python3.6/dist-packages/pandas/plotting/_matplotlib/converter.py:103: FutureWarning: Using an implicitly registered datetime converter for a matplotlib plotting method. The converter was registered by pandas on import. Future versions of pandas will require you to explicitly register matplotlib converters.\n",
            "\n",
            "To register the converters:\n",
            "\t>>> from pandas.plotting import register_matplotlib_converters\n",
            "\t>>> register_matplotlib_converters()\n",
            "  warnings.warn(msg, FutureWarning)\n"
          ],
          "name": "stderr"
        },
        {
          "output_type": "display_data",
          "data": {
            "image/png": "[encoded data removed]",
            "text/plain": [
              "<Figure size 1152x576 with 1 Axes>"
            ]
          },
          "metadata": {
            "tags": []
          }
        }
      ]
    },
    {
      "cell_type": "code",
      "metadata": {
        "id": "PuVKZMJ43P-7",
        "colab_type": "code",
        "outputId": "a2889b59-228e-45d7-e72a-2f239d3f7fdf",
        "colab": {
          "base_uri": "https://localhost:8080/",
          "height": 34
        }
      },
      "source": [
        "#Create a new dataframe with only the 'Close column\n",
        "data = df.filter(['Close'])\n",
        "\n",
        "#Convert the dataframe to a numpy array\n",
        "dataset = data.values\n",
        "\n",
        "#Get the number of rows to train the model on\n",
        "training_data_len = math.ceil( len(dataset) * .8 )\n",
        "\n",
        "training_data_len"
      ],
      "execution_count": 6,
      "outputs": [
        {
          "output_type": "execute_result",
          "data": {
            "text/plain": [
              "8238"
            ]
          },
          "metadata": {
            "tags": []
          },
          "execution_count": 6
        }
      ]
    },
    {
      "cell_type": "code",
      "metadata": {
        "id": "eforMK5W3YVF",
        "colab_type": "code",
        "outputId": "af94d277-0a53-4d7a-eef1-c9dea07d3a39",
        "colab": {
          "base_uri": "https://localhost:8080/",
          "height": 136
        }
      },
      "source": [
        "#Scale the data: scaling or normalisation \n",
        "scaler = MinMaxScaler(feature_range=(0,1))\n",
        "scaled_data = scaler.fit_transform(dataset)\n",
        "\n",
        "scaled_data"
      ],
      "execution_count": 7,
      "outputs": [
        {
          "output_type": "execute_result",
          "data": {
            "text/plain": [
              "array([[0.56586925],\n",
              "       [0.56456553],\n",
              "       [0.56130628],\n",
              "       ...,\n",
              "       [0.04041457],\n",
              "       [0.02861613],\n",
              "       [0.01727397]])"
            ]
          },
          "metadata": {
            "tags": []
          },
          "execution_count": 7
        }
      ]
    },
    {
      "cell_type": "code",
      "metadata": {
        "id": "0ElifeZm3bFH",
        "colab_type": "code",
        "outputId": "abdf2474-7d50-41c2-d5a3-4adf744bb7c5",
        "colab": {
          "base_uri": "https://localhost:8080/",
          "height": 680
        }
      },
      "source": [
        "#Create the training data set\n",
        "#Create the scaled training data set\n",
        "train_data = scaled_data[0:training_data_len , :] # since scale_data is an array so with \":\" all values are taken\n",
        "\n",
        "#Split the data into x_train and y_train data sets \n",
        "x_train = [] # list data format\n",
        "y_train = [] # list data format\n",
        "\n",
        "for i in range(60, len(train_data)):\n",
        "  x_train.append(train_data[i-60:i, 0])\n",
        "  y_train.append(train_data[i, 0])\n",
        "  if i<= 61: #for example visualization\n",
        "    print(x_train)\n",
        "    print(y_train)\n",
        "    print()\n"
      ],
      "execution_count": 8,
      "outputs": [
        {
          "output_type": "stream",
          "text": [
            "[array([0.56586925, 0.56456553, 0.56130628, 0.56065447, 0.56326186,\n",
            "       0.56456553, 0.56456553, 0.56391366, 0.56326186, 0.56391366,\n",
            "       0.56456553, 0.56586925, 0.56586925, 0.56391366, 0.56195814,\n",
            "       0.56065447, 0.55935075, 0.55283224, 0.54957305, 0.55152858,\n",
            "       0.55087672, 0.55087672, 0.55022485, 0.54696566, 0.55087672,\n",
            "       0.55413597, 0.56000261, 0.56000261, 0.56130628, 0.56130628,\n",
            "       0.56195814, 0.56195814, 0.56130628, 0.56195814, 0.56391366,\n",
            "       0.56717292, 0.56782478, 0.56717292, 0.56652105, 0.56521739,\n",
            "       0.56521739, 0.56456553, 0.56130628, 0.56326186, 0.56065447,\n",
            "       0.56065447, 0.56130628, 0.56130628, 0.56130628, 0.56195814,\n",
            "       0.56326186, 0.56195814, 0.56195814, 0.56261   , 0.56261   ,\n",
            "       0.56195814, 0.56195814, 0.56195814, 0.56130628, 0.55869889])]\n",
            "[0.5580470848559744]\n",
            "\n",
            "[array([0.56586925, 0.56456553, 0.56130628, 0.56065447, 0.56326186,\n",
            "       0.56456553, 0.56456553, 0.56391366, 0.56326186, 0.56391366,\n",
            "       0.56456553, 0.56586925, 0.56586925, 0.56391366, 0.56195814,\n",
            "       0.56065447, 0.55935075, 0.55283224, 0.54957305, 0.55152858,\n",
            "       0.55087672, 0.55087672, 0.55022485, 0.54696566, 0.55087672,\n",
            "       0.55413597, 0.56000261, 0.56000261, 0.56130628, 0.56130628,\n",
            "       0.56195814, 0.56195814, 0.56130628, 0.56195814, 0.56391366,\n",
            "       0.56717292, 0.56782478, 0.56717292, 0.56652105, 0.56521739,\n",
            "       0.56521739, 0.56456553, 0.56130628, 0.56326186, 0.56065447,\n",
            "       0.56065447, 0.56130628, 0.56130628, 0.56130628, 0.56195814,\n",
            "       0.56326186, 0.56195814, 0.56195814, 0.56261   , 0.56261   ,\n",
            "       0.56195814, 0.56195814, 0.56195814, 0.56130628, 0.55869889]), array([0.56456553, 0.56130628, 0.56065447, 0.56326186, 0.56456553,\n",
            "       0.56456553, 0.56391366, 0.56326186, 0.56391366, 0.56456553,\n",
            "       0.56586925, 0.56586925, 0.56391366, 0.56195814, 0.56065447,\n",
            "       0.55935075, 0.55283224, 0.54957305, 0.55152858, 0.55087672,\n",
            "       0.55087672, 0.55022485, 0.54696566, 0.55087672, 0.55413597,\n",
            "       0.56000261, 0.56000261, 0.56130628, 0.56130628, 0.56195814,\n",
            "       0.56195814, 0.56130628, 0.56195814, 0.56391366, 0.56717292,\n",
            "       0.56782478, 0.56717292, 0.56652105, 0.56521739, 0.56521739,\n",
            "       0.56456553, 0.56130628, 0.56326186, 0.56065447, 0.56065447,\n",
            "       0.56130628, 0.56130628, 0.56130628, 0.56195814, 0.56326186,\n",
            "       0.56195814, 0.56195814, 0.56261   , 0.56261   , 0.56195814,\n",
            "       0.56195814, 0.56195814, 0.56130628, 0.55869889, 0.55804708])]\n",
            "[0.5580470848559744, 0.5613062750394823]\n",
            "\n"
          ],
          "name": "stdout"
        }
      ]
    },
    {
      "cell_type": "code",
      "metadata": {
        "id": "GWzXylxr3eOj",
        "colab_type": "code",
        "outputId": "9be8e82b-e38e-4c9d-c54e-c91149969842",
        "colab": {
          "base_uri": "https://localhost:8080/",
          "height": 136
        }
      },
      "source": [
        "#Convert the x_train and y_train to numpy arrays \n",
        "x_train, y_train = np.array(x_train), np.array(y_train)\n",
        "print(x_train)"
      ],
      "execution_count": 9,
      "outputs": [
        {
          "output_type": "stream",
          "text": [
            "[[0.56586925 0.56456553 0.56130628 ... 0.56195814 0.56130628 0.55869889]\n",
            " [0.56456553 0.56130628 0.56065447 ... 0.56130628 0.55869889 0.55804708]\n",
            " [0.56130628 0.56065447 0.56326186 ... 0.55869889 0.55804708 0.56130628]\n",
            " ...\n",
            " [0.10279642 0.0939313  0.09438759 ... 0.09601721 0.10123199 0.09842905]\n",
            " [0.0939313  0.09438759 0.08969428 ... 0.10123199 0.09842905 0.09536536]\n",
            " [0.09438759 0.08969428 0.07926472 ... 0.09842905 0.09536536 0.09138909]]\n"
          ],
          "name": "stdout"
        }
      ]
    },
    {
      "cell_type": "code",
      "metadata": {
        "id": "AL13Vr8c3i2D",
        "colab_type": "code",
        "outputId": "151f44c2-8092-44c7-ba27-af0e98bd56bf",
        "colab": {
          "base_uri": "https://localhost:8080/",
          "height": 34
        }
      },
      "source": [
        "#Reshape the data: LSTM requires 3D shape of the input dataset\n",
        "x_train.shape\n",
        "x_train = np.reshape(x_train, (x_train.shape[0], x_train.shape[1], 1))\n",
        "x_train.shape"
      ],
      "execution_count": 10,
      "outputs": [
        {
          "output_type": "execute_result",
          "data": {
            "text/plain": [
              "(8178, 60, 1)"
            ]
          },
          "metadata": {
            "tags": []
          },
          "execution_count": 10
        }
      ]
    },
    {
      "cell_type": "code",
      "metadata": {
        "id": "FMZ_9h0c3lJV",
        "colab_type": "code",
        "outputId": "b6702b86-3b53-42d8-a6e2-54d58acd25ee",
        "colab": {
          "base_uri": "https://localhost:8080/",
          "height": 139
        }
      },
      "source": [
        "#Build the LSTM model\n",
        "model = Sequential()\n",
        "model.add(LSTM(50, return_sequences=True, input_shape= (x_train.shape[1], 1))) # 50 means number of neurons provided \n",
        "model.add(LSTM(50, return_sequences= False)) # if more layer make return sequence to true and the last layer is False\n",
        "model.add(Dense(25))\n",
        "model.add(Dense(1))"
      ],
      "execution_count": 11,
      "outputs": [
        {
          "output_type": "stream",
          "text": [
            "WARNING:tensorflow:From /usr/local/lib/python3.6/dist-packages/keras/backend/tensorflow_backend.py:66: The name tf.get_default_graph is deprecated. Please use tf.compat.v1.get_default_graph instead.\n",
            "\n",
            "WARNING:tensorflow:From /usr/local/lib/python3.6/dist-packages/keras/backend/tensorflow_backend.py:541: The name tf.placeholder is deprecated. Please use tf.compat.v1.placeholder instead.\n",
            "\n",
            "WARNING:tensorflow:From /usr/local/lib/python3.6/dist-packages/keras/backend/tensorflow_backend.py:4432: The name tf.random_uniform is deprecated. Please use tf.random.uniform instead.\n",
            "\n"
          ],
          "name": "stdout"
        }
      ]
    },
    {
      "cell_type": "code",
      "metadata": {
        "id": "ORPYRZFk3n_D",
        "colab_type": "code",
        "outputId": "ee4be684-ac7c-473e-fdc5-fe65318237aa",
        "colab": {
          "base_uri": "https://localhost:8080/",
          "height": 51
        }
      },
      "source": [
        "#Compile the model\n",
        "model.compile(optimizer='adam', loss='mean_squared_error') # loss function check how will a model performed "
      ],
      "execution_count": 12,
      "outputs": [
        {
          "output_type": "stream",
          "text": [
            "WARNING:tensorflow:From /usr/local/lib/python3.6/dist-packages/keras/optimizers.py:793: The name tf.train.Optimizer is deprecated. Please use tf.compat.v1.train.Optimizer instead.\n",
            "\n"
          ],
          "name": "stdout"
        }
      ]
    },
    {
      "cell_type": "code",
      "metadata": {
        "id": "vFor3t4J3sR8",
        "colab_type": "code",
        "outputId": "a2131f9d-40be-409f-a6f9-3c61771bb28f",
        "colab": {
          "base_uri": "https://localhost:8080/",
          "height": 411
        }
      },
      "source": [
        "#Train the model\n",
        "model.fit(x_train, y_train, batch_size=1, epochs=1) # fit is another name for train, epochs is the number of interations "
      ],
      "execution_count": 13,
      "outputs": [
        {
          "output_type": "stream",
          "text": [
            "WARNING:tensorflow:From /tensorflow-1.15.0/python3.6/tensorflow_core/python/ops/math_grad.py:1424: where (from tensorflow.python.ops.array_ops) is deprecated and will be removed in a future version.\n",
            "Instructions for updating:\n",
            "Use tf.where in 2.0, which has the same broadcast rule as np.where\n",
            "WARNING:tensorflow:From /usr/local/lib/python3.6/dist-packages/keras/backend/tensorflow_backend.py:1033: The name tf.assign_add is deprecated. Please use tf.compat.v1.assign_add instead.\n",
            "\n",
            "WARNING:tensorflow:From /usr/local/lib/python3.6/dist-packages/keras/backend/tensorflow_backend.py:1020: The name tf.assign is deprecated. Please use tf.compat.v1.assign instead.\n",
            "\n",
            "WARNING:tensorflow:From /usr/local/lib/python3.6/dist-packages/keras/backend/tensorflow_backend.py:3005: The name tf.Session is deprecated. Please use tf.compat.v1.Session instead.\n",
            "\n",
            "Epoch 1/1\n",
            "WARNING:tensorflow:From /usr/local/lib/python3.6/dist-packages/keras/backend/tensorflow_backend.py:190: The name tf.get_default_session is deprecated. Please use tf.compat.v1.get_default_session instead.\n",
            "\n",
            "WARNING:tensorflow:From /usr/local/lib/python3.6/dist-packages/keras/backend/tensorflow_backend.py:197: The name tf.ConfigProto is deprecated. Please use tf.compat.v1.ConfigProto instead.\n",
            "\n",
            "WARNING:tensorflow:From /usr/local/lib/python3.6/dist-packages/keras/backend/tensorflow_backend.py:207: The name tf.global_variables is deprecated. Please use tf.compat.v1.global_variables instead.\n",
            "\n",
            "WARNING:tensorflow:From /usr/local/lib/python3.6/dist-packages/keras/backend/tensorflow_backend.py:216: The name tf.is_variable_initialized is deprecated. Please use tf.compat.v1.is_variable_initialized instead.\n",
            "\n",
            "WARNING:tensorflow:From /usr/local/lib/python3.6/dist-packages/keras/backend/tensorflow_backend.py:223: The name tf.variables_initializer is deprecated. Please use tf.compat.v1.variables_initializer instead.\n",
            "\n",
            "8178/8178 [==============================] - 608s 74ms/step - loss: 5.5941e-04\n"
          ],
          "name": "stdout"
        },
        {
          "output_type": "execute_result",
          "data": {
            "text/plain": [
              "<keras.callbacks.History at 0x7f7ca9fce550>"
            ]
          },
          "metadata": {
            "tags": []
          },
          "execution_count": 13
        }
      ]
    },
    {
      "cell_type": "code",
      "metadata": {
        "id": "YD17_mtd3xT4",
        "colab_type": "code",
        "colab": {}
      },
      "source": [
        "#Create the testing data set\n",
        "#Create a new array containing scaled values  \n",
        "test_data = scaled_data[training_data_len - 60: , :]\n",
        "\n",
        "#Create the data sets x_test and y_test: y has all the vales we have to predict, x we append last 60 values\n",
        "x_test = []\n",
        "y_test = dataset[training_data_len:, :] # store the original values\n",
        "for i in range(60, len(test_data)):\n",
        "  x_test.append(test_data[i-60:i, 0])\n"
      ],
      "execution_count": 0,
      "outputs": []
    },
    {
      "cell_type": "code",
      "metadata": {
        "id": "a-i6c1eY3xWq",
        "colab_type": "code",
        "colab": {}
      },
      "source": [
        "#Convert the data to a numpy array\n",
        "x_test = np.array(x_test)"
      ],
      "execution_count": 0,
      "outputs": []
    },
    {
      "cell_type": "code",
      "metadata": {
        "id": "qBjlUS2b31CU",
        "colab_type": "code",
        "colab": {}
      },
      "source": [
        "#Reshape the data\n",
        "x_test = np.reshape(x_test, (x_test.shape[0], x_test.shape[1], 1 ))"
      ],
      "execution_count": 0,
      "outputs": []
    },
    {
      "cell_type": "code",
      "metadata": {
        "id": "TKcMmbrr33pf",
        "colab_type": "code",
        "colab": {}
      },
      "source": [
        "#Get the models predicted price values \n",
        "predictions = model.predict(x_test)\n",
        "predictions = scaler.inverse_transform(predictions)"
      ],
      "execution_count": 0,
      "outputs": []
    },
    {
      "cell_type": "code",
      "metadata": {
        "id": "QLeTs3q136S9",
        "colab_type": "code",
        "outputId": "a05b1a62-7a71-47ee-e3f5-08ad42889f57",
        "colab": {
          "base_uri": "https://localhost:8080/",
          "height": 34
        }
      },
      "source": [
        "#Get the root mean squared error (RMSE) # evaluate the model using RMSE\n",
        "rmse = np.sqrt( np.mean( predictions- y_test )**2 )\n",
        "rmse # sd of redidulas , lower value better model "
      ],
      "execution_count": 18,
      "outputs": [
        {
          "output_type": "execute_result",
          "data": {
            "text/plain": [
              "0.0295293658262552"
            ]
          },
          "metadata": {
            "tags": []
          },
          "execution_count": 18
        }
      ]
    },
    {
      "cell_type": "code",
      "metadata": {
        "id": "1936FjIR38rk",
        "colab_type": "code",
        "outputId": "5485193f-d10d-423c-aca4-64634fc0c4db",
        "colab": {
          "base_uri": "https://localhost:8080/",
          "height": 898
        }
      },
      "source": [
        "#Plot the data\n",
        "train = data[:training_data_len]\n",
        "valid = data[training_data_len:]\n",
        "valid['Predictions'] = predictions #adding column to valid\n",
        "\n",
        "#Visualize the data\n",
        "plt.figure(figsize=(16,8))\n",
        "plt.title('LSTM Model')\n",
        "plt.xlabel('Date', fontsize=18)\n",
        "plt.ylabel('Close Price USD ($)', fontsize=18)\n",
        "plt.plot(train['Close'])\n",
        "plt.plot(valid[['Close', 'Predictions']])\n",
        "plt.legend(['Train', 'Actual', 'Predictions'], loc='Top right')\n",
        "plt.show()"
      ],
      "execution_count": 26,
      "outputs": [
        {
          "output_type": "stream",
          "text": [
            "/usr/local/lib/python3.6/dist-packages/ipykernel_launcher.py:3: SettingWithCopyWarning: \n",
            "A value is trying to be set on a copy of a slice from a DataFrame.\n",
            "Try using .loc[row_indexer,col_indexer] = value instead\n",
            "\n",
            "See the caveats in the documentation: http://pandas.pydata.org/pandas-docs/stable/user_guide/indexing.html#returning-a-view-versus-a-copy\n",
            "  This is separate from the ipykernel package so we can avoid doing imports until\n",
            "/usr/local/lib/python3.6/dist-packages/ipykernel_launcher.py:12: MatplotlibDeprecationWarning: Unrecognized location 'Top right'. Falling back on 'best'; valid locations are\n",
            "\tbest\n",
            "\tupper right\n",
            "\tupper left\n",
            "\tlower left\n",
            "\tlower right\n",
            "\tright\n",
            "\tcenter left\n",
            "\tcenter right\n",
            "\tlower center\n",
            "\tupper center\n",
            "\tcenter\n",
            "This will raise an exception in 3.3.\n",
            "  if sys.path[0] == '':\n"
          ],
          "name": "stderr"
        },
        {
          "output_type": "display_data",
          "data": {
            "image/png": "[encoded data removed]",
            "text/plain": [
              "<Figure size 1152x576 with 1 Axes>"
            ]
          },
          "metadata": {
            "tags": []
          }
        }
      ]
    },
    {
      "cell_type": "code",
      "metadata": {
        "id": "B-feez2n3_JE",
        "colab_type": "code",
        "outputId": "550e6a1f-cbd8-4dd7-810e-33cac7d5eb0a",
        "colab": {
          "base_uri": "https://localhost:8080/",
          "height": 450
        }
      },
      "source": [
        "#Show the valid and predicted prices\n",
        "valid"
      ],
      "execution_count": 20,
      "outputs": [
        {
          "output_type": "execute_result",
          "data": {
            "text/html": [
              "<div>\n",
              "<style scoped>\n",
              "    .dataframe tbody tr th:only-of-type {\n",
              "        vertical-align: middle;\n",
              "    }\n",
              "\n",
              "    .dataframe tbody tr th {\n",
              "        vertical-align: top;\n",
              "    }\n",
              "\n",
              "    .dataframe thead th {\n",
              "        text-align: right;\n",
              "    }\n",
              "</style>\n",
              "<table border=\"1\" class=\"dataframe\">\n",
              "  <thead>\n",
              "    <tr style=\"text-align: right;\">\n",
              "      <th></th>\n",
              "      <th>Close</th>\n",
              "      <th>Predictions</th>\n",
              "    </tr>\n",
              "    <tr>\n",
              "      <th>Date</th>\n",
              "      <th></th>\n",
              "      <th></th>\n",
              "    </tr>\n",
              "  </thead>\n",
              "  <tbody>\n",
              "    <tr>\n",
              "      <th>2011-12-16</th>\n",
              "      <td>1.854</td>\n",
              "      <td>1.913860</td>\n",
              "    </tr>\n",
              "    <tr>\n",
              "      <th>2011-12-19</th>\n",
              "      <td>1.813</td>\n",
              "      <td>1.882861</td>\n",
              "    </tr>\n",
              "    <tr>\n",
              "      <th>2011-12-20</th>\n",
              "      <td>1.925</td>\n",
              "      <td>1.847682</td>\n",
              "    </tr>\n",
              "    <tr>\n",
              "      <th>2011-12-21</th>\n",
              "      <td>1.967</td>\n",
              "      <td>1.853901</td>\n",
              "    </tr>\n",
              "    <tr>\n",
              "      <th>2011-12-22</th>\n",
              "      <td>1.951</td>\n",
              "      <td>1.884127</td>\n",
              "    </tr>\n",
              "    <tr>\n",
              "      <th>...</th>\n",
              "      <td>...</td>\n",
              "      <td>...</td>\n",
              "    </tr>\n",
              "    <tr>\n",
              "      <th>2020-03-17</th>\n",
              "      <td>0.997</td>\n",
              "      <td>0.858764</td>\n",
              "    </tr>\n",
              "    <tr>\n",
              "      <th>2020-03-18</th>\n",
              "      <td>1.266</td>\n",
              "      <td>0.898751</td>\n",
              "    </tr>\n",
              "    <tr>\n",
              "      <th>2020-03-19</th>\n",
              "      <td>1.119</td>\n",
              "      <td>1.018216</td>\n",
              "    </tr>\n",
              "    <tr>\n",
              "      <th>2020-03-20</th>\n",
              "      <td>0.938</td>\n",
              "      <td>1.087089</td>\n",
              "    </tr>\n",
              "    <tr>\n",
              "      <th>2020-03-23</th>\n",
              "      <td>0.764</td>\n",
              "      <td>1.065837</td>\n",
              "    </tr>\n",
              "  </tbody>\n",
              "</table>\n",
              "<p>2059 rows × 2 columns</p>\n",
              "</div>"
            ],
            "text/plain": [
              "            Close  Predictions\n",
              "Date                          \n",
              "2011-12-16  1.854     1.913860\n",
              "2011-12-19  1.813     1.882861\n",
              "2011-12-20  1.925     1.847682\n",
              "2011-12-21  1.967     1.853901\n",
              "2011-12-22  1.951     1.884127\n",
              "...           ...          ...\n",
              "2020-03-17  0.997     0.858764\n",
              "2020-03-18  1.266     0.898751\n",
              "2020-03-19  1.119     1.018216\n",
              "2020-03-20  0.938     1.087089\n",
              "2020-03-23  0.764     1.065837\n",
              "\n",
              "[2059 rows x 2 columns]"
            ]
          },
          "metadata": {
            "tags": []
          },
          "execution_count": 20
        }
      ]
    },
    {
      "cell_type": "code",
      "metadata": {
        "id": "3npn_5Sy4C8H",
        "colab_type": "code",
        "outputId": "f17bc1cf-5c76-4382-e5f5-cf10dfbaa226",
        "colab": {
          "base_uri": "https://localhost:8080/",
          "height": 34
        }
      },
      "source": [
        "#Get the quote\n",
        "apple_quote = web.DataReader(\"^TNX\", data_source='yahoo', start='1979-01-01', end='2020-03-24')\n",
        "#Create a new dataframe\n",
        "new_df = apple_quote.filter(['Close'])\n",
        "\n",
        "#Get teh last 60 day closing price values and convert the dataframe to an array\n",
        "last_60_days = new_df[-60:].values\n",
        "\n",
        "#Scale the data to be values between 0 and 1 using the same variable as before\n",
        "last_60_days_scaled = scaler.transform(last_60_days)\n",
        "\n",
        "#Create an empty list\n",
        "X_test = []\n",
        "#Append teh past 60 days\n",
        "X_test.append(last_60_days_scaled)\n",
        "#Convert the X_test data set to a numpy array\n",
        "X_test = np.array(X_test)\n",
        "\n",
        "#Reshape the data\n",
        "X_test = np.reshape(X_test, (X_test.shape[0], X_test.shape[1], 1))\n",
        "\n",
        "#Get the predicted scaled price\n",
        "pred_price = model.predict(X_test)\n",
        "\n",
        "#undo the scaling \n",
        "pred_price = scaler.inverse_transform(pred_price)\n",
        "print(pred_price)"
      ],
      "execution_count": 22,
      "outputs": [
        {
          "output_type": "stream",
          "text": [
            "[[0.89618754]]\n"
          ],
          "name": "stdout"
        }
      ]
    },
    {
      "cell_type": "code",
      "metadata": {
        "id": "RCZBNJcw4FyM",
        "colab_type": "code",
        "outputId": "e5e53088-1c46-4500-8dcf-c31f33bafd27",
        "colab": {
          "base_uri": "https://localhost:8080/",
          "height": 68
        }
      },
      "source": [
        "#Get the quote\n",
        "apple_quote2 = web.DataReader(\"^TNX\", data_source='yahoo', start='2020-03-24', end='2020-03-24')\n",
        "print(apple_quote2['Close'])"
      ],
      "execution_count": 24,
      "outputs": [
        {
          "output_type": "stream",
          "text": [
            "Date\n",
            "2020-03-24    0.816\n",
            "Name: Close, dtype: float64\n"
          ],
          "name": "stdout"
        }
      ]
    },
    {
      "cell_type": "code",
      "metadata": {
        "id": "UTVf1QamOLnB",
        "colab_type": "code",
        "colab": {}
      },
      "source": [
        "valid.to_csv(\"Predicted and Actual 10yr Treasury Notes .csv\")"
      ],
      "execution_count": 0,
      "outputs": []
    },
    {
      "cell_type": "code",
      "metadata": {
        "id": "RJ5DoYmsOeoJ",
        "colab_type": "code",
        "colab": {}
      },
      "source": [
        ""
      ],
      "execution_count": 0,
      "outputs": []
    }
  ]
}